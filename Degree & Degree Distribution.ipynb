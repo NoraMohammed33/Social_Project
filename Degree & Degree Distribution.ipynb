{
 "cells": [
  {
   "cell_type": "code",
   "execution_count": 1,
   "id": "1ed0c70f",
   "metadata": {},
   "outputs": [],
   "source": [
    "%matplotlib inline\n",
    "import networkx as nx"
   ]
  },
  {
   "cell_type": "code",
   "execution_count": 12,
   "id": "3558b7fe",
   "metadata": {},
   "outputs": [
    {
     "data": {
      "text/html": [
       "<div>\n",
       "<style scoped>\n",
       "    .dataframe tbody tr th:only-of-type {\n",
       "        vertical-align: middle;\n",
       "    }\n",
       "\n",
       "    .dataframe tbody tr th {\n",
       "        vertical-align: top;\n",
       "    }\n",
       "\n",
       "    .dataframe thead th {\n",
       "        text-align: right;\n",
       "    }\n",
       "</style>\n",
       "<table border=\"1\" class=\"dataframe\">\n",
       "  <thead>\n",
       "    <tr style=\"text-align: right;\">\n",
       "      <th></th>\n",
       "      <th>id_1</th>\n",
       "      <th>id_2</th>\n",
       "    </tr>\n",
       "  </thead>\n",
       "  <tbody>\n",
       "    <tr>\n",
       "      <th>0</th>\n",
       "      <td>0</td>\n",
       "      <td>18427</td>\n",
       "    </tr>\n",
       "    <tr>\n",
       "      <th>1</th>\n",
       "      <td>1</td>\n",
       "      <td>21708</td>\n",
       "    </tr>\n",
       "    <tr>\n",
       "      <th>2</th>\n",
       "      <td>1</td>\n",
       "      <td>22208</td>\n",
       "    </tr>\n",
       "    <tr>\n",
       "      <th>3</th>\n",
       "      <td>1</td>\n",
       "      <td>22171</td>\n",
       "    </tr>\n",
       "    <tr>\n",
       "      <th>4</th>\n",
       "      <td>1</td>\n",
       "      <td>6829</td>\n",
       "    </tr>\n",
       "    <tr>\n",
       "      <th>...</th>\n",
       "      <td>...</td>\n",
       "      <td>...</td>\n",
       "    </tr>\n",
       "    <tr>\n",
       "      <th>170997</th>\n",
       "      <td>20188</td>\n",
       "      <td>20188</td>\n",
       "    </tr>\n",
       "    <tr>\n",
       "      <th>170998</th>\n",
       "      <td>22340</td>\n",
       "      <td>22383</td>\n",
       "    </tr>\n",
       "    <tr>\n",
       "      <th>170999</th>\n",
       "      <td>22348</td>\n",
       "      <td>22348</td>\n",
       "    </tr>\n",
       "    <tr>\n",
       "      <th>171000</th>\n",
       "      <td>5563</td>\n",
       "      <td>5563</td>\n",
       "    </tr>\n",
       "    <tr>\n",
       "      <th>171001</th>\n",
       "      <td>22425</td>\n",
       "      <td>22425</td>\n",
       "    </tr>\n",
       "  </tbody>\n",
       "</table>\n",
       "<p>171002 rows × 2 columns</p>\n",
       "</div>"
      ],
      "text/plain": [
       "         id_1   id_2\n",
       "0           0  18427\n",
       "1           1  21708\n",
       "2           1  22208\n",
       "3           1  22171\n",
       "4           1   6829\n",
       "...       ...    ...\n",
       "170997  20188  20188\n",
       "170998  22340  22383\n",
       "170999  22348  22348\n",
       "171000   5563   5563\n",
       "171001  22425  22425\n",
       "\n",
       "[171002 rows x 2 columns]"
      ]
     },
     "execution_count": 12,
     "metadata": {},
     "output_type": "execute_result"
    }
   ],
   "source": [
    "import pandas as pd\n",
    "df=pd.read_csv(\"musae_facebook_edges.csv\",sep=\",\")\n",
    "df"
   ]
  },
  {
   "cell_type": "code",
   "execution_count": 14,
   "id": "c6e67083",
   "metadata": {},
   "outputs": [
    {
     "name": "stdout",
     "output_type": "stream",
     "text": [
      "Graph with 22470 nodes and 171002 edges\n"
     ]
    },
    {
     "data": {
      "image/png": "[encoded data removed]",
      "text/plain": [
       "<Figure size 432x288 with 1 Axes>"
      ]
     },
     "metadata": {},
     "output_type": "display_data"
    }
   ],
   "source": [
    "G=nx.from_pandas_edgelist(df,'id_1','id_2')\n",
    "print(nx.info(G))\n",
    "nx.draw(G,node_color='#006d77')"
   ]
  },
  {
   "cell_type": "code",
   "execution_count": 15,
   "id": "5c30286b",
   "metadata": {},
   "outputs": [
    {
     "data": {
      "text/plain": [
       "<BarContainer object of 709 artists>"
      ]
     },
     "execution_count": 15,
     "metadata": {},
     "output_type": "execute_result"
    },
    {
     "data": {
      "image/png": "[encoded data removed]",
      "text/plain": [
       "<Figure size 432x288 with 1 Axes>"
      ]
     },
     "metadata": {
      "needs_background": "light"
     },
     "output_type": "display_data"
    }
   ],
   "source": [
    "from collections import Counter\n",
    "import matplotlib.pyplot as plt\n",
    "degree_sequence = [G.degree(n) for n in G.nodes]\n",
    "degree_counts = Counter(degree_sequence)\n",
    "min_degree, max_degree = min(degree_counts.keys()), max(degree_counts.keys())\n",
    "plt.xlabel(\"Degree\", fontsize=20)\n",
    "plt.ylabel(\"Number of Nodes\", fontsize=20)\n",
    "plot_x = list(range(min_degree, max_degree + 1))\n",
    "plot_y = [degree_counts.get(x, 0) for x in plot_x]\n",
    "plt.bar(plot_x, plot_y)"
   ]
  },
  {
   "cell_type": "code",
   "execution_count": 16,
   "id": "a8ffffcc",
   "metadata": {},
   "outputs": [],
   "source": [
    "def plot_degree_dist(G):\n",
    "    \n",
    "    degrees = G.degree()\n",
    "    degrees = dict(degrees)\n",
    "    values = sorted(set(degrees.values()))\n",
    "    print(values)\n",
    "    histo = [list(degrees.values()).count(x) for x in values]\n",
    "    P_k = [x / G.order() for x in histo]\n",
    "    print(len(P_k))\n",
    "    \n",
    "    plt.figure()\n",
    "    plt.bar(values, P_k)\n",
    "    plt.xlabel(\"k\",fontsize=20)\n",
    "    plt.ylabel(\"p(k)\", fontsize=20)\n",
    "    plt.title(\"Degree Distribution\", fontsize=20)\n",
    "    \n",
    "    plt.show()\n",
    "    plt.figure()\n",
    "    plt.grid(False)\n",
    "    plt.loglog(values, P_k, \"bo\")\n",
    "    plt.xlabel(\"k\", fontsize=20)\n",
    "    plt.ylabel(\"log p(k)\", fontsize=20)\n",
    "    plt.title(\"log Degree Distribution\")\n",
    "    plt.show()\n",
    "    plt.show()  "
   ]
  },
  {
   "cell_type": "code",
   "execution_count": 17,
   "id": "6e536688",
   "metadata": {},
   "outputs": [
    {
     "name": "stdout",
     "output_type": "stream",
     "text": [
      "[1, 2, 3, 4, 5, 6, 7, 8, 9, 10, 11, 12, 13, 14, 15, 16, 17, 18, 19, 20, 21, 22, 23, 24, 25, 26, 27, 28, 29, 30, 31, 32, 33, 34, 35, 36, 37, 38, 39, 40, 41, 42, 43, 44, 45, 46, 47, 48, 49, 50, 51, 52, 53, 54, 55, 56, 57, 58, 59, 60, 61, 62, 63, 64, 65, 66, 67, 68, 69, 70, 71, 72, 73, 74, 75, 76, 77, 78, 79, 80, 81, 82, 83, 84, 85, 86, 87, 88, 89, 90, 91, 92, 93, 94, 95, 96, 97, 98, 99, 100, 101, 102, 103, 104, 105, 106, 107, 108, 109, 110, 111, 112, 113, 114, 115, 116, 117, 118, 119, 120, 121, 122, 123, 124, 125, 126, 127, 128, 129, 131, 132, 133, 134, 135, 136, 137, 138, 139, 140, 141, 142, 143, 144, 145, 146, 147, 148, 149, 150, 151, 152, 153, 155, 156, 157, 158, 162, 163, 166, 167, 168, 169, 170, 171, 172, 174, 177, 178, 181, 182, 183, 185, 188, 189, 191, 193, 194, 195, 196, 199, 201, 203, 205, 212, 214, 216, 217, 218, 220, 222, 224, 225, 226, 229, 233, 234, 236, 237, 240, 241, 244, 256, 257, 260, 266, 275, 280, 288, 290, 296, 298, 320, 326, 328, 330, 333, 338, 341, 351, 364, 370, 375, 380, 387, 408, 417, 448, 468, 504, 650, 659, 678, 709]\n",
      "233\n"
     ]
    },
    {
     "data": {
      "image/png": "[encoded data removed]",
      "text/plain": [
       "<Figure size 432x288 with 1 Axes>"
      ]
     },
     "metadata": {
      "needs_background": "light"
     },
     "output_type": "display_data"
    },
    {
     "data": {
      "image/png": "[encoded data removed]",
      "text/plain": [
       "<Figure size 432x288 with 1 Axes>"
      ]
     },
     "metadata": {
      "needs_background": "light"
     },
     "output_type": "display_data"
    }
   ],
   "source": [
    " plot_degree_dist(G)"
   ]
  },
  {
   "cell_type": "code",
   "execution_count": 18,
   "id": "8185685c",
   "metadata": {},
   "outputs": [],
   "source": [
    "Adj = nx.adjacency_matrix(G).todense()"
   ]
  },
  {
   "cell_type": "code",
   "execution_count": 19,
   "id": "37daeb53",
   "metadata": {},
   "outputs": [
    {
     "data": {
      "text/plain": [
       "matrix([[0, 1, 0, ..., 0, 0, 0],\n",
       "        [1, 0, 0, ..., 0, 0, 0],\n",
       "        [0, 0, 0, ..., 0, 0, 0],\n",
       "        ...,\n",
       "        [0, 0, 0, ..., 0, 0, 0],\n",
       "        [0, 0, 0, ..., 0, 0, 0],\n",
       "        [0, 0, 0, ..., 0, 0, 0]], dtype=int32)"
      ]
     },
     "execution_count": 19,
     "metadata": {},
     "output_type": "execute_result"
    }
   ],
   "source": [
    "Adj"
   ]
  }
 ],
 "metadata": {
  "kernelspec": {
   "display_name": "Python 3 (ipykernel)",
   "language": "python",
   "name": "python3"
  },
  "language_info": {
   "codemirror_mode": {
    "name": "ipython",
    "version": 3
   },
   "file_extension": ".py",
   "mimetype": "text/x-python",
   "name": "python",
   "nbconvert_exporter": "python",
   "pygments_lexer": "ipython3",
   "version": "3.9.7"
  }
 },
 "nbformat": 4,
 "nbformat_minor": 5
}
